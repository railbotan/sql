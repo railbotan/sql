{
 "cells": [
  {
   "cell_type": "markdown",
   "id": "e0921fb8",
   "metadata": {},
   "source": [
    "# Задания"
   ]
  },
  {
   "cell_type": "code",
   "execution_count": 2,
   "id": "3bb2be8f",
   "metadata": {},
   "outputs": [],
   "source": [
    "import sqlite3\n",
    "import pandas as pd\n",
    "import matplotlib.pyplot as plt\n",
    "import numpy as np"
   ]
  },
  {
   "cell_type": "markdown",
   "id": "3feeb615",
   "metadata": {},
   "source": [
    "## Задание 1: Создайте и заполните таблицу запросами, создайте техническое поле ID c параметрами INTEGER PRIMARY KEY AUTOINCREMENT."
   ]
  },
  {
   "cell_type": "code",
   "execution_count": 3,
   "id": "fb765ce4",
   "metadata": {},
   "outputs": [
    {
     "data": {
      "text/plain": [
       "<sqlite3.Cursor at 0x256b72f3570>"
      ]
     },
     "execution_count": 3,
     "metadata": {},
     "output_type": "execute_result"
    }
   ],
   "source": [
    "con = sqlite3.connect('works.sqlite')\n",
    "cursor = con.cursor()\n",
    "cursor.execute('drop table if exists works')\n",
    "cursor.execute('create table if not exists works (ID INTEGER PRIMARY KEY AUTOINCREMENT, salary INTEGER, educationType TEXT,'\n",
    "              'jobTitle TEXT, qualification TEXT, gender TEXT, dateModify TEXT,skills TEXT,otherInfo TEXT)')"
   ]
  },
  {
   "cell_type": "code",
   "execution_count": 4,
   "id": "8bb0331b",
   "metadata": {},
   "outputs": [
    {
     "data": {
      "text/plain": [
       "[(0, 'ID', 'INTEGER', 0, None, 1),\n",
       " (1, 'salary', 'INTEGER', 0, None, 0),\n",
       " (2, 'educationType', 'TEXT', 0, None, 0),\n",
       " (3, 'jobTitle', 'TEXT', 0, None, 0),\n",
       " (4, 'qualification', 'TEXT', 0, None, 0),\n",
       " (5, 'gender', 'TEXT', 0, None, 0),\n",
       " (6, 'dateModify', 'TEXT', 0, None, 0),\n",
       " (7, 'skills', 'TEXT', 0, None, 0),\n",
       " (8, 'otherInfo', 'TEXT', 0, None, 0)]"
      ]
     },
     "execution_count": 4,
     "metadata": {},
     "output_type": "execute_result"
    }
   ],
   "source": [
    "cursor.execute('pragma table_info(works)').fetchall()"
   ]
  },
  {
   "cell_type": "code",
   "execution_count": 5,
   "id": "e8c5f80d",
   "metadata": {},
   "outputs": [
    {
     "data": {
      "text/plain": [
       "[(1,\n",
       "  60000,\n",
       "  'Высшее',\n",
       "  'Специалист пресс-службы',\n",
       "  'Магистр',\n",
       "  'Мужской',\n",
       "  '2021-04-01',\n",
       "  '<p>Аналитическое&nbsp;мышление,&nbsp;<span class=\"s6\"><span class=\"bumpedFont15\">ответственность, </span></span><span class=\"s6\"><span class=\"bumpedFont15\">стабильность психологического состояния и настроения.&nbsp;</span></span></p>',\n",
       "  None),\n",
       " (2,\n",
       "  85000,\n",
       "  'Высшее',\n",
       "  'менеджер проектов',\n",
       "  None,\n",
       "  'Мужской',\n",
       "  '2021-04-01',\n",
       "  None,\n",
       "  None),\n",
       " (3,\n",
       "  15000,\n",
       "  'Среднее профессиональное',\n",
       "  '....',\n",
       "  None,\n",
       "  'Женский',\n",
       "  '2021-06-01',\n",
       "  None,\n",
       "  None),\n",
       " (4, 30000, None, None, None, 'Женский', '2021-04-03', None, None),\n",
       " (5, 45000, None, None, None, 'Мужской', '2021-06-28', None, None)]"
      ]
     },
     "execution_count": 5,
     "metadata": {},
     "output_type": "execute_result"
    }
   ],
   "source": [
    "df = pd.read_csv(\"works.csv\")\n",
    "df.to_sql(\"works\", con, if_exists='append', index=False)\n",
    "cursor.execute('select * from works limit 5').fetchall()"
   ]
  },
  {
   "cell_type": "markdown",
   "id": "b774be85",
   "metadata": {},
   "source": [
    "## Задание 2: Добавьте индекс на поле salary. Изменится ли после этого размер файла? На сколько?"
   ]
  },
  {
   "cell_type": "code",
   "execution_count": 6,
   "id": "d70066f5",
   "metadata": {},
   "outputs": [
    {
     "data": {
      "text/plain": [
       "<sqlite3.Cursor at 0x256b72f3570>"
      ]
     },
     "execution_count": 6,
     "metadata": {},
     "output_type": "execute_result"
    }
   ],
   "source": [
    "# до 6,19\n",
    "cursor.execute('create index salary_index on works(salary)')\n",
    "# после 6,52\n",
    "# увеличилось на 0,33мб"
   ]
  },
  {
   "cell_type": "markdown",
   "id": "bb609291",
   "metadata": {},
   "source": [
    "## Задание 3: Выведите количество записей."
   ]
  },
  {
   "cell_type": "code",
   "execution_count": 7,
   "id": "b1816a3c",
   "metadata": {},
   "outputs": [
    {
     "data": {
      "text/plain": [
       "32683"
      ]
     },
     "execution_count": 7,
     "metadata": {},
     "output_type": "execute_result"
    }
   ],
   "source": [
    "cursor.execute('select count(*) from works').fetchall()[0][0]"
   ]
  },
  {
   "cell_type": "markdown",
   "id": "ebe92a0b",
   "metadata": {},
   "source": [
    "## Задание 4: Выведите количество мужчин и женщин."
   ]
  },
  {
   "cell_type": "code",
   "execution_count": 8,
   "id": "6d23aae0",
   "metadata": {},
   "outputs": [
    {
     "data": {
      "text/plain": [
       "17910"
      ]
     },
     "execution_count": 8,
     "metadata": {},
     "output_type": "execute_result"
    }
   ],
   "source": [
    "cursor.execute('select count(*) from works where gender=\"Женский\"').fetchall()[0][0]"
   ]
  },
  {
   "cell_type": "code",
   "execution_count": 9,
   "id": "4645926d",
   "metadata": {},
   "outputs": [
    {
     "data": {
      "text/plain": [
       "13386"
      ]
     },
     "execution_count": 9,
     "metadata": {},
     "output_type": "execute_result"
    }
   ],
   "source": [
    "cursor.execute('select count(*) from works where gender=\"Мужской\"').fetchall()[0][0]"
   ]
  },
  {
   "cell_type": "markdown",
   "id": "ddd3f51b",
   "metadata": {},
   "source": [
    "## Задание 5: У скольки записей заполены skills?"
   ]
  },
  {
   "cell_type": "code",
   "execution_count": 10,
   "id": "caa4598a",
   "metadata": {},
   "outputs": [
    {
     "data": {
      "text/plain": [
       "8972"
      ]
     },
     "execution_count": 10,
     "metadata": {},
     "output_type": "execute_result"
    }
   ],
   "source": [
    "cursor.execute('select count(*) from works where skills not null').fetchall()[0][0]"
   ]
  },
  {
   "cell_type": "markdown",
   "id": "9479e786",
   "metadata": {},
   "source": [
    "## Задание 6: Получить заполненные скиллы."
   ]
  },
  {
   "cell_type": "code",
   "execution_count": 11,
   "id": "cee1f4c9",
   "metadata": {},
   "outputs": [
    {
     "data": {
      "text/plain": [
       "[('<p>Аналитическое&nbsp;мышление,&nbsp;<span class=\"s6\"><span class=\"bumpedFont15\">ответственность, </span></span><span class=\"s6\"><span class=\"bumpedFont15\">стабильность психологического состояния и настроения.&nbsp;</span></span></p>',),\n",
       " ('Ответственная,пунктуальная,дисциплинированная я,стрессоустойчивая,легкообучаема ,технически оснащена',),\n",
       " ('<p>Коммуникабельность&nbsp;</p>',)]"
      ]
     },
     "execution_count": 11,
     "metadata": {},
     "output_type": "execute_result"
    }
   ],
   "source": [
    "cursor.execute('select skills from works where skills not null limit 3').fetchall()"
   ]
  },
  {
   "cell_type": "markdown",
   "id": "1d6699fd",
   "metadata": {},
   "source": [
    "## Задание 7: Вывести зарплату только у тех, у кого в скилах есть Python."
   ]
  },
  {
   "cell_type": "code",
   "execution_count": 12,
   "id": "afb58688",
   "metadata": {},
   "outputs": [
    {
     "data": {
      "text/plain": [
       "[(35000,),\n",
       " (20000,),\n",
       " (35000,),\n",
       " (15000,),\n",
       " (25000,),\n",
       " (90000,),\n",
       " (30000,),\n",
       " (50000,),\n",
       " (23000,),\n",
       " (23000,)]"
      ]
     },
     "execution_count": 12,
     "metadata": {},
     "output_type": "execute_result"
    }
   ],
   "source": [
    "cursor.execute('select salary from works where skills like \"%Python%\"').fetchall()"
   ]
  },
  {
   "cell_type": "markdown",
   "id": "37910ec9",
   "metadata": {},
   "source": [
    "## Задание 8: Построить перцентили и разброс по з/п у мужчин и женщин."
   ]
  },
  {
   "cell_type": "code",
   "execution_count": 13,
   "id": "df9828de",
   "metadata": {},
   "outputs": [
    {
     "data": {
      "text/plain": [
       "array([  15000.,   20000.,   25000.,   30000.,   30000.,   35000.,\n",
       "         40000.,   50000.,   60000., 1000000.])"
      ]
     },
     "execution_count": 13,
     "metadata": {},
     "output_type": "execute_result"
    }
   ],
   "source": [
    "men = cursor.execute('SELECT salary FROM works where gender = \"Мужской\"').fetchall()\n",
    "salaryMen = []\n",
    "for i in men:\n",
    "    salaryMen.append(i[0])\n",
    "np.quantile(salaryMen, np.linspace(.1, 1, 10))"
   ]
  },
  {
   "cell_type": "code",
   "execution_count": 14,
   "id": "d713670c",
   "metadata": {},
   "outputs": [
    {
     "data": {
      "image/png": "[encoded data removed]",
      "text/plain": [
       "<Figure size 720x360 with 1 Axes>"
      ]
     },
     "metadata": {
      "needs_background": "light"
     },
     "output_type": "display_data"
    }
   ],
   "source": [
    "plt.figure(figsize=(10, 5))\n",
    "plt.title('Перцентили по заработной плате у мужчин')\n",
    "plt.xlabel('Перцентили')\n",
    "plt.ylabel('Зарплата')\n",
    "plt.grid()\n",
    "plt.plot(np.quantile(salaryMen, np.linspace(.1, 1, 10)))\n",
    "plt.show()"
   ]
  },
  {
   "cell_type": "code",
   "execution_count": 15,
   "id": "dbc713bd",
   "metadata": {},
   "outputs": [
    {
     "data": {
      "text/plain": [
       "array([ 15000.,  18000.,  20000.,  22000.,  25000.,  30000.,  30000.,\n",
       "        35000.,  47000., 900000.])"
      ]
     },
     "execution_count": 15,
     "metadata": {},
     "output_type": "execute_result"
    }
   ],
   "source": [
    "wom = cursor.execute('SELECT salary FROM works where gender = \"Женский\"').fetchall()\n",
    "salaryWom = []\n",
    "for i in wom:\n",
    "    salaryWom.append(i[0])\n",
    "np.quantile(salaryWom, np.linspace(.1, 1, 10))"
   ]
  },
  {
   "cell_type": "code",
   "execution_count": 16,
   "id": "49da1829",
   "metadata": {},
   "outputs": [
    {
     "data": {
      "image/png": "[encoded data removed]",
      "text/plain": [
       "<Figure size 720x360 with 1 Axes>"
      ]
     },
     "metadata": {
      "needs_background": "light"
     },
     "output_type": "display_data"
    }
   ],
   "source": [
    "plt.figure(figsize=(10, 5))\n",
    "plt.title('Перцентили по заработной плате у женщин')\n",
    "plt.xlabel('Перцентили')\n",
    "plt.ylabel('Зарплата')\n",
    "plt.grid()\n",
    "plt.plot(np.quantile(salaryWom, np.linspace(.1, 1, 10)))\n",
    "plt.show()"
   ]
  },
  {
   "cell_type": "markdown",
   "id": "a6b9bd4d",
   "metadata": {},
   "source": [
    "## Задание 9: Построить графики распределения по з/п мужчин и женщин в зависимости от высшего образования."
   ]
  },
  {
   "cell_type": "markdown",
   "id": "007079f1",
   "metadata": {},
   "source": [
    "### распределения по з/п мужчин"
   ]
  },
  {
   "cell_type": "code",
   "execution_count": 17,
   "id": "4ab836fb",
   "metadata": {},
   "outputs": [
    {
     "data": {
      "image/png": "[encoded data removed]",
      "text/plain": [
       "<Figure size 720x360 with 1 Axes>"
      ]
     },
     "metadata": {
      "needs_background": "light"
     },
     "output_type": "display_data"
    }
   ],
   "source": [
    "men = np.asarray(cursor.execute(\"select salary from works where gender='Мужской' and educationType='Высшее'\").fetchall())\n",
    "plt.figure(figsize=(10, 5)) \n",
    "plt.title('Распределение по з/п мужчин с высшим образованием') \n",
    "plt.xlabel('Зарплата') \n",
    "plt.ylabel('Количество') \n",
    "plt.grid() \n",
    "\n",
    "plt.hist(men, \n",
    "         bins=100) \n",
    "plt.show()"
   ]
  },
  {
   "cell_type": "code",
   "execution_count": 18,
   "id": "64914549",
   "metadata": {},
   "outputs": [
    {
     "data": {
      "image/png": "[encoded data removed]",
      "text/plain": [
       "<Figure size 720x360 with 1 Axes>"
      ]
     },
     "metadata": {
      "needs_background": "light"
     },
     "output_type": "display_data"
    }
   ],
   "source": [
    "men = np.asarray(cursor.execute(\"select salary from works where gender='Мужской' and educationType='Незаконченное высшее'\").fetchall())\n",
    "plt.figure(figsize=(10, 5)) \n",
    "plt.title('Распределение по з/п мужчин с незаконченным высшем') \n",
    "plt.xlabel('Зарплата') \n",
    "plt.ylabel('Количество') \n",
    "plt.grid() \n",
    "\n",
    "plt.hist(men, \n",
    "         bins=100) \n",
    "plt.show()"
   ]
  },
  {
   "cell_type": "code",
   "execution_count": 19,
   "id": "c2e753ce",
   "metadata": {},
   "outputs": [
    {
     "data": {
      "image/png": "[encoded data removed]",
      "text/plain": [
       "<Figure size 720x360 with 1 Axes>"
      ]
     },
     "metadata": {
      "needs_background": "light"
     },
     "output_type": "display_data"
    }
   ],
   "source": [
    "men = np.asarray(cursor.execute(\"select salary from works where gender='Мужской' and educationType='Среднее'\").fetchall())\n",
    "plt.figure(figsize=(10, 5)) \n",
    "plt.title('Распределение по з/п мужчин с средним образованием') \n",
    "plt.xlabel('Зарплата') \n",
    "plt.ylabel('Количество') \n",
    "plt.grid() \n",
    "\n",
    "plt.hist(men, \n",
    "         bins=100) \n",
    "plt.show()"
   ]
  },
  {
   "cell_type": "code",
   "execution_count": 20,
   "id": "06d792c8",
   "metadata": {},
   "outputs": [
    {
     "data": {
      "image/png": "[encoded data removed]",
      "text/plain": [
       "<Figure size 720x360 with 1 Axes>"
      ]
     },
     "metadata": {
      "needs_background": "light"
     },
     "output_type": "display_data"
    }
   ],
   "source": [
    "men = np.asarray(cursor.execute(\"select salary from works where gender='Мужской' and educationType='Среднее профессиональное'\").fetchall())\n",
    "plt.figure(figsize=(10, 5)) \n",
    "plt.title('Распределение по з/п мужчин с средним профессиональные образованием') \n",
    "plt.xlabel('Зарплата') \n",
    "plt.ylabel('Количество') \n",
    "plt.grid() \n",
    "\n",
    "plt.hist(men, \n",
    "         bins=100) \n",
    "plt.show()"
   ]
  },
  {
   "cell_type": "markdown",
   "id": "0f5fce4d",
   "metadata": {},
   "source": [
    "### распределения по з/п женщин"
   ]
  },
  {
   "cell_type": "code",
   "execution_count": 21,
   "id": "a80023eb",
   "metadata": {},
   "outputs": [
    {
     "data": {
      "image/png": "[encoded data removed]",
      "text/plain": [
       "<Figure size 720x360 with 1 Axes>"
      ]
     },
     "metadata": {
      "needs_background": "light"
     },
     "output_type": "display_data"
    }
   ],
   "source": [
    "wom = np.asarray(cursor.execute(\"select salary from works where gender='Женский' and educationType='Высшее'\").fetchall())\n",
    "plt.figure(figsize=(10, 5)) \n",
    "plt.title('Распределение по з/п женщин с высшим образованием') \n",
    "plt.xlabel('Зарплата') \n",
    "plt.ylabel('Количество') \n",
    "plt.grid() \n",
    "\n",
    "plt.hist(wom, \n",
    "         bins=100) \n",
    "plt.show()"
   ]
  },
  {
   "cell_type": "code",
   "execution_count": 22,
   "id": "fc4ccc71",
   "metadata": {},
   "outputs": [
    {
     "data": {
      "image/png": "[encoded data removed]",
      "text/plain": [
       "<Figure size 720x360 with 1 Axes>"
      ]
     },
     "metadata": {
      "needs_background": "light"
     },
     "output_type": "display_data"
    }
   ],
   "source": [
    "wom = np.asarray(cursor.execute(\"select salary from works where gender='Женский' and educationType='Незаконченное высшее'\").fetchall())\n",
    "plt.figure(figsize=(10, 5)) \n",
    "plt.title('Распределение по з/п женщин с незаконченным высшем') \n",
    "plt.xlabel('Зарплата') \n",
    "plt.ylabel('Количество') \n",
    "plt.grid() \n",
    "\n",
    "plt.hist(wom, \n",
    "         bins=100) \n",
    "plt.show()"
   ]
  },
  {
   "cell_type": "code",
   "execution_count": 23,
   "id": "82133c66",
   "metadata": {},
   "outputs": [
    {
     "data": {
      "image/png": "[encoded data removed]",
      "text/plain": [
       "<Figure size 720x360 with 1 Axes>"
      ]
     },
     "metadata": {
      "needs_background": "light"
     },
     "output_type": "display_data"
    }
   ],
   "source": [
    "wom = np.asarray(cursor.execute(\"select salary from works where gender='Женский' and educationType='Среднее'\").fetchall())\n",
    "plt.figure(figsize=(10, 5)) \n",
    "plt.title('Распределение по з/п женщин с средним образованием') \n",
    "plt.xlabel('Зарплата') \n",
    "plt.ylabel('Количество') \n",
    "plt.grid() \n",
    "\n",
    "plt.hist(wom, \n",
    "         bins=100) \n",
    "plt.show()"
   ]
  },
  {
   "cell_type": "code",
   "execution_count": 24,
   "id": "1e02e333",
   "metadata": {},
   "outputs": [
    {
     "data": {
      "image/png": "[encoded data removed]",
      "text/plain": [
       "<Figure size 720x360 with 1 Axes>"
      ]
     },
     "metadata": {
      "needs_background": "light"
     },
     "output_type": "display_data"
    }
   ],
   "source": [
    "wom = np.asarray(cursor.execute(\"select salary from works where gender='Женский' and educationType='Среднее профессиональное'\").fetchall())\n",
    "plt.figure(figsize=(10, 5)) \n",
    "plt.title('Распределение по з/п женщин с средним профессиональные образованием') \n",
    "plt.xlabel('Зарплата') \n",
    "plt.ylabel('Количество') \n",
    "plt.grid() \n",
    "\n",
    "plt.hist(wom, \n",
    "         bins=100) \n",
    "plt.show()"
   ]
  },
  {
   "cell_type": "markdown",
   "id": "e82631f5",
   "metadata": {},
   "source": [
    "# ДЗ"
   ]
  },
  {
   "cell_type": "markdown",
   "id": "5942cc25",
   "metadata": {},
   "source": [
    "## Пробуем нормализовать базу данных и немного почистить поля.\n",
    "Выделим отдельные сущности:"
   ]
  },
  {
   "cell_type": "markdown",
   "id": "9cadd462",
   "metadata": {},
   "source": [
    "### Создайте отдельную таблицу с гендером, заполните ее значениями, сделайте на нее внешний ключ из таблицы works."
   ]
  },
  {
   "cell_type": "code",
   "execution_count": 25,
   "id": "6a972735",
   "metadata": {},
   "outputs": [
    {
     "data": {
      "text/plain": [
       "[(0, 'ID', 'INTEGER', 0, None, 1), (1, 'gender', 'TEXT', 0, None, 0)]"
      ]
     },
     "execution_count": 25,
     "metadata": {},
     "output_type": "execute_result"
    }
   ],
   "source": [
    "# создание таблицы\n",
    "cursor.execute(\"create table if not exists genders (ID INTEGER PRIMARY KEY AUTOINCREMENT, gender TEXT)\")\n",
    "cursor.execute('pragma table_info(genders)').fetchall()"
   ]
  },
  {
   "cell_type": "code",
   "execution_count": 26,
   "id": "bf3e0ee5",
   "metadata": {},
   "outputs": [
    {
     "data": {
      "text/plain": [
       "<sqlite3.Cursor at 0x256b72f3570>"
      ]
     },
     "execution_count": 26,
     "metadata": {},
     "output_type": "execute_result"
    }
   ],
   "source": [
    "# добавление внешнего ключа\n",
    "cursor.execute('insert into genders(gender) select distinct gender from works where gender is not null')\n",
    "cursor.execute('alter table works add column id_gend INTEGER REFERENCES genders(ID)')"
   ]
  },
  {
   "cell_type": "code",
   "execution_count": 27,
   "id": "c67ff2d6",
   "metadata": {
    "scrolled": true
   },
   "outputs": [
    {
     "data": {
      "text/plain": [
       "<sqlite3.Cursor at 0x256b72f3570>"
      ]
     },
     "execution_count": 27,
     "metadata": {},
     "output_type": "execute_result"
    }
   ],
   "source": [
    "# изменение в works гендера на код\n",
    "cursor.execute('UPDATE works SET id_gend = (SELECT ID FROM genders WHERE gender = works.gender)')"
   ]
  },
  {
   "cell_type": "code",
   "execution_count": 28,
   "id": "e32e7630",
   "metadata": {},
   "outputs": [
    {
     "data": {
      "text/plain": [
       "<sqlite3.Cursor at 0x256b72f3570>"
      ]
     },
     "execution_count": 28,
     "metadata": {},
     "output_type": "execute_result"
    }
   ],
   "source": [
    "# удаление столбца гендера\n",
    "cursor.execute('ALTER TABLE works DROP COLUMN gender')"
   ]
  },
  {
   "cell_type": "code",
   "execution_count": 29,
   "id": "642738ef",
   "metadata": {},
   "outputs": [
    {
     "data": {
      "text/plain": [
       "[(0, 'ID', 'INTEGER', 0, None, 1),\n",
       " (1, 'salary', 'INTEGER', 0, None, 0),\n",
       " (2, 'educationType', 'TEXT', 0, None, 0),\n",
       " (3, 'jobTitle', 'TEXT', 0, None, 0),\n",
       " (4, 'qualification', 'TEXT', 0, None, 0),\n",
       " (5, 'dateModify', 'TEXT', 0, None, 0),\n",
       " (6, 'skills', 'TEXT', 0, None, 0),\n",
       " (7, 'otherInfo', 'TEXT', 0, None, 0),\n",
       " (8, 'id_gend', 'INTEGER', 0, None, 0)]"
      ]
     },
     "execution_count": 29,
     "metadata": {},
     "output_type": "execute_result"
    }
   ],
   "source": [
    "cursor.execute(\"pragma table_info(works)\").fetchall()"
   ]
  },
  {
   "cell_type": "code",
   "execution_count": 30,
   "id": "e7151e4d",
   "metadata": {},
   "outputs": [
    {
     "data": {
      "text/plain": [
       "[(1, 'Мужской'), (2, 'Женский')]"
      ]
     },
     "execution_count": 30,
     "metadata": {},
     "output_type": "execute_result"
    }
   ],
   "source": [
    "cursor.execute(\"SELECT * FROM genders\").fetchall()"
   ]
  },
  {
   "cell_type": "code",
   "execution_count": 31,
   "id": "911af64e",
   "metadata": {
    "scrolled": false
   },
   "outputs": [
    {
     "data": {
      "text/plain": [
       "[(1,), (1,), (2,), (2,), (1,)]"
      ]
     },
     "execution_count": 31,
     "metadata": {},
     "output_type": "execute_result"
    }
   ],
   "source": [
    "cursor.execute('SELECT id_gend FROM works limit 5').fetchall()"
   ]
  },
  {
   "cell_type": "markdown",
   "id": "723acd1e",
   "metadata": {},
   "source": [
    "### Отдельная таблица для образования."
   ]
  },
  {
   "cell_type": "code",
   "execution_count": 32,
   "id": "67c8b8fc",
   "metadata": {},
   "outputs": [
    {
     "data": {
      "text/plain": [
       "<sqlite3.Cursor at 0x256b72f3570>"
      ]
     },
     "execution_count": 32,
     "metadata": {},
     "output_type": "execute_result"
    }
   ],
   "source": [
    "cursor.execute(\"create table if not exists education (ID INTEGER PRIMARY KEY AUTOINCREMENT, educationType TEXT)\")\n",
    "cursor.execute('insert into education(educationType) select distinct educationType from works where educationType is not null')\n",
    "cursor.execute('alter table works add column id_educ INTEGER REFERENCES education(ID)')\n",
    "cursor.execute('UPDATE works SET id_educ = (SELECT ID FROM education WHERE educationType = works.educationType)')\n",
    "cursor.execute('ALTER TABLE works DROP COLUMN educationType')"
   ]
  },
  {
   "cell_type": "code",
   "execution_count": 33,
   "id": "c927f965",
   "metadata": {},
   "outputs": [
    {
     "data": {
      "text/plain": [
       "[(0, 'ID', 'INTEGER', 0, None, 1),\n",
       " (1, 'salary', 'INTEGER', 0, None, 0),\n",
       " (2, 'jobTitle', 'TEXT', 0, None, 0),\n",
       " (3, 'qualification', 'TEXT', 0, None, 0),\n",
       " (4, 'dateModify', 'TEXT', 0, None, 0),\n",
       " (5, 'skills', 'TEXT', 0, None, 0),\n",
       " (6, 'otherInfo', 'TEXT', 0, None, 0),\n",
       " (7, 'id_gend', 'INTEGER', 0, None, 0),\n",
       " (8, 'id_educ', 'INTEGER', 0, None, 0)]"
      ]
     },
     "execution_count": 33,
     "metadata": {},
     "output_type": "execute_result"
    }
   ],
   "source": [
    "cursor.execute(\"pragma table_info(works)\").fetchall()"
   ]
  },
  {
   "cell_type": "code",
   "execution_count": 34,
   "id": "f6cf6921",
   "metadata": {},
   "outputs": [
    {
     "data": {
      "text/plain": [
       "[(1, 'Высшее'),\n",
       " (2, 'Среднее профессиональное'),\n",
       " (3, 'Среднее'),\n",
       " (4, 'Незаконченное высшее')]"
      ]
     },
     "execution_count": 34,
     "metadata": {},
     "output_type": "execute_result"
    }
   ],
   "source": [
    "cursor.execute(\"SELECT * FROM education\").fetchall()"
   ]
  },
  {
   "cell_type": "code",
   "execution_count": 35,
   "id": "4af47dac",
   "metadata": {},
   "outputs": [
    {
     "data": {
      "text/plain": [
       "[(1,), (1,), (2,), (None,), (None,)]"
      ]
     },
     "execution_count": 35,
     "metadata": {},
     "output_type": "execute_result"
    }
   ],
   "source": [
    "cursor.execute('SELECT id_educ FROM works limit 5').fetchall()"
   ]
  },
  {
   "cell_type": "markdown",
   "id": "6b86e5a7",
   "metadata": {},
   "source": [
    "## Скилы и otherInfo\n",
    "Эти поля крайне засорены HTML-разметкой. \n",
    "\n",
    "### Очистите эти поля от HTML."
   ]
  },
  {
   "cell_type": "code",
   "execution_count": 36,
   "id": "184ad3f3",
   "metadata": {},
   "outputs": [],
   "source": [
    "import re"
   ]
  },
  {
   "cell_type": "code",
   "execution_count": 37,
   "id": "999c07e6",
   "metadata": {},
   "outputs": [
    {
     "data": {
      "text/plain": [
       "<sqlite3.Cursor at 0x256b72f3570>"
      ]
     },
     "execution_count": 37,
     "metadata": {},
     "output_type": "execute_result"
    }
   ],
   "source": [
    "works_new = cursor.execute(\"SELECT ID, skills, otherInfo FROM works\").fetchall()\n",
    "clear = []\n",
    "for id, skills, other_info in works_new:\n",
    "    if skills is not None:\n",
    "        #замена лишних символов на пробел(иначе могут сливаться слова)\n",
    "        skills = re.sub(r'<.*?>|&([a-z0-9]+|#[0-9]{1,6}|#x[0-9a-f]{1,6});', ' ', skills) \n",
    "        #замена подряд идущих пробелов на один\n",
    "        skills = re.sub(r'[  ]+', ' ', skills) \n",
    "        # удаление пробела начале и в конце\n",
    "        skills = skills.strip()\n",
    "    if other_info is not None:   \n",
    "        other_info = re.sub(r'<.*?>|&([a-z0-9]+|#[0-9]{1,6}|#x[0-9a-f]{1,6});', ' ', other_info)\n",
    "        other_info = re.sub(r'[  ]+', ' ', other_info)\n",
    "        other_info = other_info.strip()\n",
    "    clear.append((skills, other_info, id))\n",
    "cursor.executemany(\"UPDATE works SET skills = ?, otherInfo = ? WHERE ID = ?\", clear)"
   ]
  },
  {
   "cell_type": "code",
   "execution_count": 38,
   "id": "af212c94",
   "metadata": {
    "scrolled": true
   },
   "outputs": [
    {
     "data": {
      "text/plain": [
       "[(1,\n",
       "  60000,\n",
       "  'Специалист пресс-службы',\n",
       "  'Магистр',\n",
       "  '2021-04-01',\n",
       "  'Аналитическое мышление, ответственность, стабильность психологического состояния и настроения.',\n",
       "  None,\n",
       "  1,\n",
       "  1),\n",
       " (2, 85000, 'менеджер проектов', None, '2021-04-01', None, None, 1, 1),\n",
       " (3, 15000, '....', None, '2021-06-01', None, None, 2, 2)]"
      ]
     },
     "execution_count": 38,
     "metadata": {},
     "output_type": "execute_result"
    }
   ],
   "source": [
    "cursor.execute(\"SELECT * FROM works limit 3\").fetchall()"
   ]
  }
 ],
 "metadata": {
  "kernelspec": {
   "display_name": "Python 3 (ipykernel)",
   "language": "python",
   "name": "python3"
  },
  "language_info": {
   "codemirror_mode": {
    "name": "ipython",
    "version": 3
   },
   "file_extension": ".py",
   "mimetype": "text/x-python",
   "name": "python",
   "nbconvert_exporter": "python",
   "pygments_lexer": "ipython3",
   "version": "3.8.8"
  }
 },
 "nbformat": 4,
 "nbformat_minor": 5
}
