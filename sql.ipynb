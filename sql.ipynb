{
 "cells": [
  {
   "cell_type": "markdown",
   "id": "e454624f",
   "metadata": {},
   "source": [
    "1. Создайте и заполните таблицу запросами, создайте техническое поле `ID` c параметрами `INTEGER PRIMARY KEY AUTOINCREMENT`."
   ]
  },
  {
   "cell_type": "code",
   "execution_count": 1,
   "id": "e5af55f3",
   "metadata": {},
   "outputs": [],
   "source": [
    "import sqlite3 \n",
    "import os"
   ]
  },
  {
   "cell_type": "code",
   "execution_count": 2,
   "id": "878303f2",
   "metadata": {},
   "outputs": [],
   "source": [
    "DATABASE_NAME = r'works.sqlite'"
   ]
  },
  {
   "cell_type": "code",
   "execution_count": 3,
   "id": "e685197f",
   "metadata": {},
   "outputs": [],
   "source": [
    "if os.path.isfile(DATABASE_NAME):\n",
    "    os.remove(DATABASE_NAME)\n",
    "con = sqlite3.connect(DATABASE_NAME)"
   ]
  },
  {
   "cell_type": "code",
   "execution_count": 4,
   "id": "14095ba4",
   "metadata": {},
   "outputs": [],
   "source": [
    "query = r\"\"\"CREATE TABLE IF NOT EXISTS works (ID INTEGER PRIMARY KEY AUTOINCREMENT, \n",
    "salary INTEGER, educationType TEXT, jobTitle TEXT, qualification TEXT, gender TEXT, dateModify DATE, skills TEXT,\n",
    "otherInfo TEXT);\"\"\""
   ]
  },
  {
   "cell_type": "code",
   "execution_count": 5,
   "id": "68afbf00",
   "metadata": {},
   "outputs": [
    {
     "data": {
      "text/plain": [
       "<sqlite3.Cursor at 0x1c512791a40>"
      ]
     },
     "execution_count": 5,
     "metadata": {},
     "output_type": "execute_result"
    }
   ],
   "source": [
    "cur = con.cursor()\n",
    "cur.execute(\"DROP TABLE IF EXISTS works\")\n",
    "cur.execute(query)"
   ]
  },
  {
   "cell_type": "code",
   "execution_count": 6,
   "id": "6c4b89bf",
   "metadata": {},
   "outputs": [
    {
     "data": {
      "text/plain": [
       "[(0, 'ID', 'INTEGER', 0, None, 1),\n",
       " (1, 'salary', 'INTEGER', 0, None, 0),\n",
       " (2, 'educationType', 'TEXT', 0, None, 0),\n",
       " (3, 'jobTitle', 'TEXT', 0, None, 0),\n",
       " (4, 'qualification', 'TEXT', 0, None, 0),\n",
       " (5, 'gender', 'TEXT', 0, None, 0),\n",
       " (6, 'dateModify', 'DATE', 0, None, 0),\n",
       " (7, 'skills', 'TEXT', 0, None, 0),\n",
       " (8, 'otherInfo', 'TEXT', 0, None, 0)]"
      ]
     },
     "execution_count": 6,
     "metadata": {},
     "output_type": "execute_result"
    }
   ],
   "source": [
    "cur.execute(\"pragma table_info(works)\").fetchall()"
   ]
  },
  {
   "cell_type": "code",
   "execution_count": 7,
   "id": "b1f8b2d5",
   "metadata": {},
   "outputs": [],
   "source": [
    "import pandas as pd"
   ]
  },
  {
   "cell_type": "code",
   "execution_count": 8,
   "id": "7461947f",
   "metadata": {},
   "outputs": [],
   "source": [
    "df = pd.read_csv(\"works.csv\")\n",
    "df.to_sql('works', con, if_exists=\"append\", index=False)"
   ]
  },
  {
   "cell_type": "code",
   "execution_count": 9,
   "id": "b99feebd",
   "metadata": {},
   "outputs": [
    {
     "data": {
      "text/plain": [
       "[(1,\n",
       "  60000,\n",
       "  'Высшее',\n",
       "  'Специалист пресс-службы',\n",
       "  'Магистр',\n",
       "  'Мужской',\n",
       "  '2021-04-01',\n",
       "  '<p>Аналитическое&nbsp;мышление,&nbsp;<span class=\"s6\"><span class=\"bumpedFont15\">ответственность, </span></span><span class=\"s6\"><span class=\"bumpedFont15\">стабильность психологического состояния и настроения.&nbsp;</span></span></p>',\n",
       "  None),\n",
       " (2,\n",
       "  85000,\n",
       "  'Высшее',\n",
       "  'менеджер проектов',\n",
       "  None,\n",
       "  'Мужской',\n",
       "  '2021-04-01',\n",
       "  None,\n",
       "  None),\n",
       " (3,\n",
       "  15000,\n",
       "  'Среднее профессиональное',\n",
       "  '....',\n",
       "  None,\n",
       "  'Женский',\n",
       "  '2021-06-01',\n",
       "  None,\n",
       "  None),\n",
       " (4, 30000, None, None, None, 'Женский', '2021-04-03', None, None),\n",
       " (5, 45000, None, None, None, 'Мужской', '2021-06-28', None, None)]"
      ]
     },
     "execution_count": 9,
     "metadata": {},
     "output_type": "execute_result"
    }
   ],
   "source": [
    "cur.execute(\"SELECT * FROM works LIMIT 5\").fetchall()"
   ]
  },
  {
   "cell_type": "markdown",
   "id": "94bd8ce7",
   "metadata": {},
   "source": [
    "2. Добавьте индекс на поле `salary`. Изменится ли после этого размер файла? На сколько?"
   ]
  },
  {
   "cell_type": "code",
   "execution_count": 10,
   "id": "d655925a",
   "metadata": {},
   "outputs": [
    {
     "name": "stdout",
     "output_type": "stream",
     "text": [
      "Размер до создания индекса: 6500352 байт(а).\n"
     ]
    }
   ],
   "source": [
    "import os.path\n",
    "sixe_before_index = os.path.getsize(DATABASE_NAME)\n",
    "print(f\"Размер до создания индекса: {sixe_before_index} байт(а).\")"
   ]
  },
  {
   "cell_type": "code",
   "execution_count": 11,
   "id": "38e33ce0",
   "metadata": {},
   "outputs": [
    {
     "data": {
      "text/plain": [
       "<sqlite3.Cursor at 0x1c512791a40>"
      ]
     },
     "execution_count": 11,
     "metadata": {},
     "output_type": "execute_result"
    }
   ],
   "source": [
    "cur.execute(\"CREATE INDEX salary_index on works (salary)\")"
   ]
  },
  {
   "cell_type": "code",
   "execution_count": 12,
   "id": "4ad2f0ae",
   "metadata": {},
   "outputs": [
    {
     "name": "stdout",
     "output_type": "stream",
     "text": [
      "Размер после создания индекса: 6844416 байт(а).\n",
      "Разница: 344064 байт(а).\n"
     ]
    }
   ],
   "source": [
    "size_after_index = os.path.getsize(DATABASE_NAME)\n",
    "print(f\"Размер после создания индекса: {size_after_index} байт(а).\")\n",
    "print(f\"Разница: {size_after_index - sixe_before_index} байт(а).\")"
   ]
  },
  {
   "cell_type": "markdown",
   "id": "7007d805",
   "metadata": {},
   "source": [
    "3. Выведите количество записей."
   ]
  },
  {
   "cell_type": "code",
   "execution_count": 13,
   "id": "c796d292",
   "metadata": {},
   "outputs": [
    {
     "name": "stdout",
     "output_type": "stream",
     "text": [
      "32683\n"
     ]
    }
   ],
   "source": [
    "row_count = cur.execute(\"SELECT COUNT(*) FROM works\").fetchone()\n",
    "print(row_count[0])"
   ]
  },
  {
   "cell_type": "markdown",
   "id": "b26f090e",
   "metadata": {},
   "source": [
    "4. Выведите количество мужчин и женщин."
   ]
  },
  {
   "cell_type": "code",
   "execution_count": 14,
   "id": "a1b84b00",
   "metadata": {},
   "outputs": [
    {
     "name": "stdout",
     "output_type": "stream",
     "text": [
      "Количество людей с гендором 'Мужской': 13386\n",
      "Количество людей с гендором 'Женский': 17910\n"
     ]
    }
   ],
   "source": [
    "genders = (\"Мужской\", \"Женский\")\n",
    "\n",
    "for gender in genders:\n",
    "    count = cur.execute(f\"SELECT COUNT(*) FROM works WHERE {gender=}\").fetchone()\n",
    "    print(f\"Количество людей с гендором '{gender}': {count[0]}\")"
   ]
  },
  {
   "cell_type": "markdown",
   "id": "d524f07b",
   "metadata": {},
   "source": [
    "5. У скольки записей заполены skills?"
   ]
  },
  {
   "cell_type": "code",
   "execution_count": 15,
   "id": "70278ace",
   "metadata": {},
   "outputs": [
    {
     "name": "stdout",
     "output_type": "stream",
     "text": [
      "Количество заполненных скилов: 8972.\n"
     ]
    }
   ],
   "source": [
    "skills_count = cur.execute(\"SELECT COUNT(*) FROM works WHERE skills IS NOT NULL\").fetchone()\n",
    "print(f\"Количество заполненных скилов: {skills_count[0]}.\")"
   ]
  },
  {
   "cell_type": "markdown",
   "id": "a46ee011",
   "metadata": {},
   "source": [
    "6. Получить заполненные скиллы."
   ]
  },
  {
   "cell_type": "code",
   "execution_count": 16,
   "id": "868246ae",
   "metadata": {},
   "outputs": [
    {
     "name": "stdout",
     "output_type": "stream",
     "text": [
      "<p>Аналитическое&nbsp;мышление,&nbsp;<span class=\"s6\"><span class=\"bumpedFont15\">ответственность, </span></span><span class=\"s6\"><span class=\"bumpedFont15\">стабильность психологического состояния и настроения.&nbsp;</span></span></p>\n",
      "\n",
      "Ответственная,пунктуальная,дисциплинированная я,стрессоустойчивая,легкообучаема ,технически оснащена\n",
      "\n",
      "<p>Коммуникабельность&nbsp;</p>\n",
      "\n",
      "<p>Ответственность в работе</p>\n",
      "\n",
      "<p>Усидчивость, умение удерживать в памяти нужную информацию,скрупулезность, пунктуальность, умение планировать и организовать рабочий процесс,дальновидность, умение собирать и анализировать данные, аккуратность, нацеленность на результат.</p>\n"
     ]
    }
   ],
   "source": [
    "skills = cur.execute(\"SELECT skills FROM works WHERE skills IS NOT NULL\").fetchall()\n",
    "skills = [skls[0] for skls in skills]\n",
    "print(*skills[:5], sep=\"\\n\\n\")"
   ]
  },
  {
   "cell_type": "markdown",
   "id": "711df366",
   "metadata": {},
   "source": [
    "7. Вывести зарплату только у тех, у кого в скилах есть Python."
   ]
  },
  {
   "cell_type": "code",
   "execution_count": 17,
   "id": "4262aa59",
   "metadata": {},
   "outputs": [
    {
     "name": "stdout",
     "output_type": "stream",
     "text": [
      "35000\n",
      "\n",
      "20000\n",
      "\n",
      "35000\n",
      "\n",
      "15000\n",
      "\n",
      "25000\n"
     ]
    }
   ],
   "source": [
    "query = \"SELECT salary FROM works WHERE lower(skills) LIKE '%python%' OR lower(skills) LIKE '%питон%'\"\n",
    "python_salaries = cur.execute(query).fetchall()\n",
    "python_salaries = [slr[0] for slr in python_salaries]\n",
    "print(*python_salaries[:5], sep=\"\\n\\n\")"
   ]
  },
  {
   "cell_type": "markdown",
   "id": "353ca7f3",
   "metadata": {},
   "source": [
    "8. Построить перцентили и разброс по з/п у мужчин и женщин."
   ]
  },
  {
   "cell_type": "code",
   "execution_count": 18,
   "id": "85afdee1",
   "metadata": {},
   "outputs": [
    {
     "name": "stdout",
     "output_type": "stream",
     "text": [
      "gender='Мужской'\n",
      "0.1 -> 15000.0\n",
      "0.2 -> 20000.0\n",
      "0.3 -> 25000.0\n",
      "0.4 -> 30000.0\n",
      "0.5 -> 30000.0\n",
      "0.6 -> 35000.0\n",
      "0.7 -> 40000.0\n",
      "0.8 -> 50000.0\n",
      "0.9 -> 60000.0\n",
      "1.0 -> 1000000.0\n",
      "gender='Женский'\n",
      "0.1 -> 15000.0\n",
      "0.2 -> 18000.0\n",
      "0.3 -> 20000.0\n",
      "0.4 -> 22000.0\n",
      "0.5 -> 25000.0\n",
      "0.6 -> 30000.0\n",
      "0.7 -> 30000.0\n",
      "0.8 -> 35000.0\n",
      "0.9 -> 47000.0\n",
      "1.0 -> 900000.0\n"
     ]
    }
   ],
   "source": [
    "import numpy as np\n",
    "\n",
    "q = [i/10 for i in range(1, 11)]\n",
    "for gender in genders:\n",
    "    query = f\"SELECT salary FROM works WHERE {gender=}\"\n",
    "    salaries = [slr[0] for slr in cur.execute(query).fetchall()]\n",
    "    res = np.quantile(np.array(salaries), q)\n",
    "    print(f\"{gender=}\")\n",
    "    print(*[f\"{i} -> {j}\" for i, j in zip(q, res)], sep=\"\\n\")"
   ]
  },
  {
   "cell_type": "markdown",
   "id": "0e75c55f",
   "metadata": {},
   "source": [
    "9. Построить графики распределения по з/п мужчин и женщин (а также в зависимости от высшего образования)."
   ]
  },
  {
   "cell_type": "code",
   "execution_count": 19,
   "id": "58c5d0c7",
   "metadata": {},
   "outputs": [
    {
     "data": {
      "image/png": "[encoded data removed]",
      "text/plain": [
       "<Figure size 720x360 with 1 Axes>"
      ]
     },
     "metadata": {
      "needs_background": "light"
     },
     "output_type": "display_data"
    },
    {
     "data": {
      "image/png": "[encoded data removed]",
      "text/plain": [
       "<Figure size 720x360 with 1 Axes>"
      ]
     },
     "metadata": {
      "needs_background": "light"
     },
     "output_type": "display_data"
    },
    {
     "data": {
      "image/png": "[encoded data removed]",
      "text/plain": [
       "<Figure size 720x360 with 1 Axes>"
      ]
     },
     "metadata": {
      "needs_background": "light"
     },
     "output_type": "display_data"
    },
    {
     "data": {
      "image/png": "[encoded data removed]",
      "text/plain": [
       "<Figure size 720x360 with 1 Axes>"
      ]
     },
     "metadata": {
      "needs_background": "light"
     },
     "output_type": "display_data"
    },
    {
     "data": {
      "image/png": "[encoded data removed]",
      "text/plain": [
       "<Figure size 720x360 with 1 Axes>"
      ]
     },
     "metadata": {
      "needs_background": "light"
     },
     "output_type": "display_data"
    },
    {
     "data": {
      "image/png": "[encoded data removed]",
      "text/plain": [
       "<Figure size 720x360 with 1 Axes>"
      ]
     },
     "metadata": {
      "needs_background": "light"
     },
     "output_type": "display_data"
    },
    {
     "data": {
      "image/png": "[encoded data removed]",
      "text/plain": [
       "<Figure size 720x360 with 1 Axes>"
      ]
     },
     "metadata": {
      "needs_background": "light"
     },
     "output_type": "display_data"
    },
    {
     "data": {
      "image/png": "[encoded data removed]",
      "text/plain": [
       "<Figure size 720x360 with 1 Axes>"
      ]
     },
     "metadata": {
      "needs_background": "light"
     },
     "output_type": "display_data"
    }
   ],
   "source": [
    "import matplotlib.pyplot as plt\n",
    "\n",
    "educations = cur.execute(\"SELECT DISTINCT educationType FROM works WHERE educationType IS NOT NULL\").fetchall()\n",
    "educations = [ed[0] for ed in educations]\n",
    "\n",
    "for gender in genders:\n",
    "    for educationType in educations:\n",
    "        plt.figure(figsize=(10, 5))  \n",
    "        plt.grid()\n",
    "        plt.title(f\"Распределение по заработной плате для пол : '{gender}' с образованием: '{educationType}'\") \n",
    "        plt.xlabel(\"Зарплата\") \n",
    "        plt.ylabel(\"Количество\") \n",
    "        query = f'SELECT salary FROM works WHERE {gender=} and {educationType=}'\n",
    "        salaries = [i[0] for i in cur.execute(query).fetchall()]\n",
    "        plt.hist(salaries, bins=40)\n",
    "        \n",
    "\n"
   ]
  },
  {
   "cell_type": "markdown",
   "id": "461c45ff",
   "metadata": {},
   "source": [
    "ДЗ\n",
    "\n",
    "Выделим отдельные сущности:\n",
    "\n",
    "Создайте отдельную таблицу с гендером, заполните ее значениями, сделайте на нее внешний ключ из таблицы works.\n",
    "\n",
    "Отдельная таблица для образования."
   ]
  },
  {
   "cell_type": "code",
   "execution_count": 20,
   "id": "5189a37e",
   "metadata": {},
   "outputs": [],
   "source": [
    "cur.execute(\"DROP TABLE IF EXISTS genders\")\n",
    "cur.execute(\"CREATE TABLE IF NOT EXISTS genders (ID INTEGER PRIMARY KEY AUTOINCREMENT, gender TEXT)\")\n",
    "cur.executemany(\"INSERT INTO genders(gender) VALUES (?);\", [(g, ) for g in genders])\n",
    "cur.execute(\"DROP TABLE IF EXISTS educations\")\n",
    "cur.execute(\"CREATE TABLE IF NOT EXISTS educations (ID INTEGER PRIMARY KEY AUTOINCREMENT, education TEXT)\")\n",
    "cur.executemany(\"INSERT INTO educations(education) VALUES (?);\", [(e, ) for e in educations])\n",
    "con.commit()"
   ]
  },
  {
   "cell_type": "code",
   "execution_count": 21,
   "id": "78ddaa0f",
   "metadata": {},
   "outputs": [],
   "source": [
    "table_data = cur.execute(\"SELECT * FROM works\").fetchall()\n",
    "cur.execute(\"DROP TABLE IF EXISTS works\") \n",
    "\n",
    "genders_converter = {j:i + 1 for i, j in enumerate(genders)}\n",
    "educations_converter = {j: i + 1  for i, j in enumerate(educations)}\n",
    "\n",
    "query = r\"\"\"CREATE TABLE IF NOT EXISTS works (ID INTEGER PRIMARY KEY AUTOINCREMENT, \n",
    "salary INTEGER, educationType INTEGER, jobTitle TEXT, qualification TEXT , gender INTEGER, dateModify DATE, skills TEXT,\n",
    "otherInfo TEXT, FOREIGN KEY (educationType) REFERENCES educations (ID), FOREIGN KEY (gender) REFERENCES genders (ID));\"\"\"\n",
    "cur.execute(query)\n",
    "\n",
    "data_with_refs = []\n",
    "for row in table_data:\n",
    "    edu = educations_converter.get(row[2])\n",
    "    gender = genders_converter.get(row[5])\n",
    "    data_with_refs.append((*row[:2], edu, *row[3:5], gender, *row[6:]))\n",
    "    \n",
    "cur.executemany(\"INSERT INTO works VALUES(?, ?, ?, ?, ?, ?, ?, ?, ?)\", data_with_refs)\n",
    "con.commit()"
   ]
  },
  {
   "cell_type": "markdown",
   "id": "a4c8631f",
   "metadata": {},
   "source": [
    "Скилы и otherInfo. Очистите эти поля от HTML."
   ]
  },
  {
   "cell_type": "code",
   "execution_count": 22,
   "id": "1074a1fd",
   "metadata": {},
   "outputs": [],
   "source": [
    "import re\n",
    "\n",
    "CLEANR = re.compile('<.*?>|&([a-z0-9]+|#[0-9]{1,6}|#x[0-9a-f]{1,6});')\n",
    "data_to_clear = cur.execute(\"SELECT ID, skills, otherInfo from works\").fetchall()"
   ]
  },
  {
   "cell_type": "code",
   "execution_count": 23,
   "id": "bb9c8e71",
   "metadata": {},
   "outputs": [],
   "source": [
    "cleared_data = []\n",
    "for i, skill, other_info in data_to_clear:\n",
    "    if skill is not None:\n",
    "        skill = re.sub(CLEANR, '', skill)\n",
    "    if other_info is not None:\n",
    "        other_info = re.sub(CLEANR, '', other_info)\n",
    "    cleared_data.append((skill, other_info, i))"
   ]
  },
  {
   "cell_type": "code",
   "execution_count": 24,
   "id": "347814df",
   "metadata": {},
   "outputs": [],
   "source": [
    "cur.executemany(\"UPDATE works SET skills = ?, otherInfo = ? WHERE ID = ?\", cleared_data)\n",
    "con.commit()"
   ]
  },
  {
   "cell_type": "code",
   "execution_count": null,
   "id": "5f346494",
   "metadata": {},
   "outputs": [],
   "source": []
  },
  {
   "cell_type": "code",
   "execution_count": null,
   "id": "87b31fd7",
   "metadata": {},
   "outputs": [],
   "source": []
  }
 ],
 "metadata": {
  "kernelspec": {
   "display_name": "Python 3",
   "language": "python",
   "name": "python3"
  },
  "language_info": {
   "codemirror_mode": {
    "name": "ipython",
    "version": 3
   },
   "file_extension": ".py",
   "mimetype": "text/x-python",
   "name": "python",
   "nbconvert_exporter": "python",
   "pygments_lexer": "ipython3",
   "version": "3.8.8"
  }
 },
 "nbformat": 4,
 "nbformat_minor": 5
}
