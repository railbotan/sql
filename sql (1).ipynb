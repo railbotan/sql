{
 "cells": [
  {
   "cell_type": "code",
   "execution_count": 113,
   "id": "711c5667",
   "metadata": {},
   "outputs": [],
   "source": [
    "import sqlite3\n",
    "import pandas as pd\n",
    "import numpy as np\n",
    "import matplotlib.pyplot as plt\n",
    "import re"
   ]
  },
  {
   "cell_type": "markdown",
   "id": "999d3065",
   "metadata": {},
   "source": [
    "## 1. Создайте и заполните таблицу запросами, создайте техническое поле ID c параметрами INTEGER PRIMARY KEY AUTOINCREMENT."
   ]
  },
  {
   "cell_type": "code",
   "execution_count": 3,
   "id": "2d8d8bea",
   "metadata": {},
   "outputs": [],
   "source": [
    "con = sqlite3.connect('works.sqlite')\n",
    "cursor = con.cursor()"
   ]
  },
  {
   "cell_type": "code",
   "execution_count": 4,
   "id": "1bea13df",
   "metadata": {},
   "outputs": [
    {
     "data": {
      "text/plain": [
       "<sqlite3.Cursor at 0x1b8f5b57c70>"
      ]
     },
     "execution_count": 4,
     "metadata": {},
     "output_type": "execute_result"
    }
   ],
   "source": [
    "cursor.execute(\"CREATE TABLE IF NOT EXISTS works (ID INTEGER PRIMARY KEY AUTOINCREMENT,salary INTEGER,educationType TEXT,jobTitle TEXT,qualification TEXT,gender TEXT,dateModify TEXT,skills TEXT,otherInfo TEXT)\")"
   ]
  },
  {
   "cell_type": "code",
   "execution_count": 5,
   "id": "95cf2e4a",
   "metadata": {},
   "outputs": [
    {
     "data": {
      "text/plain": [
       "[(0, 'ID', 'INTEGER', 0, None, 1),\n",
       " (1, 'salary', 'INTEGER', 0, None, 0),\n",
       " (2, 'educationType', 'TEXT', 0, None, 0),\n",
       " (3, 'jobTitle', 'TEXT', 0, None, 0),\n",
       " (4, 'qualification', 'TEXT', 0, None, 0),\n",
       " (5, 'gender', 'TEXT', 0, None, 0),\n",
       " (6, 'dateModify', 'TEXT', 0, None, 0),\n",
       " (7, 'skills', 'TEXT', 0, None, 0),\n",
       " (8, 'otherInfo', 'TEXT', 0, None, 0)]"
      ]
     },
     "execution_count": 5,
     "metadata": {},
     "output_type": "execute_result"
    }
   ],
   "source": [
    "cursor.execute(\"pragma table_info(works)\").fetchall()"
   ]
  },
  {
   "cell_type": "code",
   "execution_count": 109,
   "id": "c809c6b9",
   "metadata": {},
   "outputs": [
    {
     "data": {
      "text/html": [
       "<div>\n",
       "<style scoped>\n",
       "    .dataframe tbody tr th:only-of-type {\n",
       "        vertical-align: middle;\n",
       "    }\n",
       "\n",
       "    .dataframe tbody tr th {\n",
       "        vertical-align: top;\n",
       "    }\n",
       "\n",
       "    .dataframe thead th {\n",
       "        text-align: right;\n",
       "    }\n",
       "</style>\n",
       "<table border=\"1\" class=\"dataframe\">\n",
       "  <thead>\n",
       "    <tr style=\"text-align: right;\">\n",
       "      <th></th>\n",
       "      <th>salary</th>\n",
       "      <th>educationType</th>\n",
       "      <th>jobTitle</th>\n",
       "      <th>qualification</th>\n",
       "      <th>gender</th>\n",
       "      <th>dateModify</th>\n",
       "      <th>skills</th>\n",
       "      <th>otherInfo</th>\n",
       "    </tr>\n",
       "  </thead>\n",
       "  <tbody>\n",
       "    <tr>\n",
       "      <th>0</th>\n",
       "      <td>60000</td>\n",
       "      <td>Высшее</td>\n",
       "      <td>Специалист пресс-службы</td>\n",
       "      <td>Магистр</td>\n",
       "      <td>Мужской</td>\n",
       "      <td>2021-04-01</td>\n",
       "      <td>&lt;p&gt;Аналитическое&amp;nbsp;мышление,&amp;nbsp;&lt;span cla...</td>\n",
       "      <td>NaN</td>\n",
       "    </tr>\n",
       "    <tr>\n",
       "      <th>1</th>\n",
       "      <td>85000</td>\n",
       "      <td>Высшее</td>\n",
       "      <td>менеджер проектов</td>\n",
       "      <td>NaN</td>\n",
       "      <td>Мужской</td>\n",
       "      <td>2021-04-01</td>\n",
       "      <td>NaN</td>\n",
       "      <td>NaN</td>\n",
       "    </tr>\n",
       "    <tr>\n",
       "      <th>2</th>\n",
       "      <td>15000</td>\n",
       "      <td>Среднее профессиональное</td>\n",
       "      <td>....</td>\n",
       "      <td>NaN</td>\n",
       "      <td>Женский</td>\n",
       "      <td>2021-06-01</td>\n",
       "      <td>NaN</td>\n",
       "      <td>NaN</td>\n",
       "    </tr>\n",
       "    <tr>\n",
       "      <th>3</th>\n",
       "      <td>30000</td>\n",
       "      <td>NaN</td>\n",
       "      <td>NaN</td>\n",
       "      <td>NaN</td>\n",
       "      <td>Женский</td>\n",
       "      <td>2021-04-03</td>\n",
       "      <td>NaN</td>\n",
       "      <td>NaN</td>\n",
       "    </tr>\n",
       "    <tr>\n",
       "      <th>4</th>\n",
       "      <td>45000</td>\n",
       "      <td>NaN</td>\n",
       "      <td>NaN</td>\n",
       "      <td>NaN</td>\n",
       "      <td>Мужской</td>\n",
       "      <td>2021-06-28</td>\n",
       "      <td>NaN</td>\n",
       "      <td>NaN</td>\n",
       "    </tr>\n",
       "    <tr>\n",
       "      <th>...</th>\n",
       "      <td>...</td>\n",
       "      <td>...</td>\n",
       "      <td>...</td>\n",
       "      <td>...</td>\n",
       "      <td>...</td>\n",
       "      <td>...</td>\n",
       "      <td>...</td>\n",
       "      <td>...</td>\n",
       "    </tr>\n",
       "    <tr>\n",
       "      <th>32678</th>\n",
       "      <td>15000</td>\n",
       "      <td>NaN</td>\n",
       "      <td>NaN</td>\n",
       "      <td>NaN</td>\n",
       "      <td>Женский</td>\n",
       "      <td>2021-06-23</td>\n",
       "      <td>NaN</td>\n",
       "      <td>NaN</td>\n",
       "    </tr>\n",
       "    <tr>\n",
       "      <th>32679</th>\n",
       "      <td>13000</td>\n",
       "      <td>Среднее</td>\n",
       "      <td>уборщица</td>\n",
       "      <td>NaN</td>\n",
       "      <td>Женский</td>\n",
       "      <td>2021-07-29</td>\n",
       "      <td>NaN</td>\n",
       "      <td>NaN</td>\n",
       "    </tr>\n",
       "    <tr>\n",
       "      <th>32680</th>\n",
       "      <td>16000</td>\n",
       "      <td>Среднее профессиональное</td>\n",
       "      <td>кочегар машинист котельной</td>\n",
       "      <td>NaN</td>\n",
       "      <td>Мужской</td>\n",
       "      <td>2021-11-11</td>\n",
       "      <td>NaN</td>\n",
       "      <td>NaN</td>\n",
       "    </tr>\n",
       "    <tr>\n",
       "      <th>32681</th>\n",
       "      <td>35000</td>\n",
       "      <td>Высшее</td>\n",
       "      <td>NaN</td>\n",
       "      <td>NaN</td>\n",
       "      <td>Мужской</td>\n",
       "      <td>2020-04-21</td>\n",
       "      <td>NaN</td>\n",
       "      <td>NaN</td>\n",
       "    </tr>\n",
       "    <tr>\n",
       "      <th>32682</th>\n",
       "      <td>30000</td>\n",
       "      <td>NaN</td>\n",
       "      <td>NaN</td>\n",
       "      <td>NaN</td>\n",
       "      <td>Мужской</td>\n",
       "      <td>2021-06-20</td>\n",
       "      <td>NaN</td>\n",
       "      <td>NaN</td>\n",
       "    </tr>\n",
       "  </tbody>\n",
       "</table>\n",
       "<p>32683 rows × 8 columns</p>\n",
       "</div>"
      ],
      "text/plain": [
       "       salary             educationType                    jobTitle  \\\n",
       "0       60000                    Высшее     Специалист пресс-службы   \n",
       "1       85000                    Высшее           менеджер проектов   \n",
       "2       15000  Среднее профессиональное                        ....   \n",
       "3       30000                       NaN                         NaN   \n",
       "4       45000                       NaN                         NaN   \n",
       "...       ...                       ...                         ...   \n",
       "32678   15000                       NaN                         NaN   \n",
       "32679   13000                   Среднее                    уборщица   \n",
       "32680   16000  Среднее профессиональное  кочегар машинист котельной   \n",
       "32681   35000                    Высшее                         NaN   \n",
       "32682   30000                       NaN                         NaN   \n",
       "\n",
       "      qualification   gender  dateModify  \\\n",
       "0           Магистр  Мужской  2021-04-01   \n",
       "1               NaN  Мужской  2021-04-01   \n",
       "2               NaN  Женский  2021-06-01   \n",
       "3               NaN  Женский  2021-04-03   \n",
       "4               NaN  Мужской  2021-06-28   \n",
       "...             ...      ...         ...   \n",
       "32678           NaN  Женский  2021-06-23   \n",
       "32679           NaN  Женский  2021-07-29   \n",
       "32680           NaN  Мужской  2021-11-11   \n",
       "32681           NaN  Мужской  2020-04-21   \n",
       "32682           NaN  Мужской  2021-06-20   \n",
       "\n",
       "                                                  skills otherInfo  \n",
       "0      <p>Аналитическое&nbsp;мышление,&nbsp;<span cla...       NaN  \n",
       "1                                                    NaN       NaN  \n",
       "2                                                    NaN       NaN  \n",
       "3                                                    NaN       NaN  \n",
       "4                                                    NaN       NaN  \n",
       "...                                                  ...       ...  \n",
       "32678                                                NaN       NaN  \n",
       "32679                                                NaN       NaN  \n",
       "32680                                                NaN       NaN  \n",
       "32681                                                NaN       NaN  \n",
       "32682                                                NaN       NaN  \n",
       "\n",
       "[32683 rows x 8 columns]"
      ]
     },
     "execution_count": 109,
     "metadata": {},
     "output_type": "execute_result"
    }
   ],
   "source": [
    "works = pd.read_csv(\"works.csv\")\n",
    "works"
   ]
  },
  {
   "cell_type": "code",
   "execution_count": 7,
   "id": "2aa23a65",
   "metadata": {},
   "outputs": [],
   "source": [
    "works.to_sql(\"works\", con, if_exists='append', index=False)"
   ]
  },
  {
   "cell_type": "code",
   "execution_count": 10,
   "id": "55107f32",
   "metadata": {},
   "outputs": [
    {
     "data": {
      "text/plain": [
       "[(1,\n",
       "  60000,\n",
       "  'Высшее',\n",
       "  'Специалист пресс-службы',\n",
       "  'Магистр',\n",
       "  'Мужской',\n",
       "  '2021-04-01',\n",
       "  '<p>Аналитическое&nbsp;мышление,&nbsp;<span class=\"s6\"><span class=\"bumpedFont15\">ответственность, </span></span><span class=\"s6\"><span class=\"bumpedFont15\">стабильность психологического состояния и настроения.&nbsp;</span></span></p>',\n",
       "  None),\n",
       " (2,\n",
       "  85000,\n",
       "  'Высшее',\n",
       "  'менеджер проектов',\n",
       "  None,\n",
       "  'Мужской',\n",
       "  '2021-04-01',\n",
       "  None,\n",
       "  None),\n",
       " (3,\n",
       "  15000,\n",
       "  'Среднее профессиональное',\n",
       "  '....',\n",
       "  None,\n",
       "  'Женский',\n",
       "  '2021-06-01',\n",
       "  None,\n",
       "  None),\n",
       " (4, 30000, None, None, None, 'Женский', '2021-04-03', None, None),\n",
       " (5, 45000, None, None, None, 'Мужской', '2021-06-28', None, None)]"
      ]
     },
     "execution_count": 10,
     "metadata": {},
     "output_type": "execute_result"
    }
   ],
   "source": [
    "cursor.execute(\"SELECT * FROM works limit 5\").fetchall()"
   ]
  },
  {
   "cell_type": "markdown",
   "id": "41f473bb",
   "metadata": {},
   "source": [
    "## 2. Добавьте индекс на поле salary. Изменится ли после этого размер файла? На сколько?"
   ]
  },
  {
   "cell_type": "code",
   "execution_count": 8,
   "id": "011abc1d",
   "metadata": {},
   "outputs": [
    {
     "data": {
      "text/plain": [
       "<sqlite3.Cursor at 0x1b8f5b57c70>"
      ]
     },
     "execution_count": 8,
     "metadata": {},
     "output_type": "execute_result"
    }
   ],
   "source": [
    "cursor.execute('CREATE INDEX salary_index ON works(salary)')"
   ]
  },
  {
   "cell_type": "code",
   "execution_count": 14,
   "id": "f1fb9a1b",
   "metadata": {},
   "outputs": [],
   "source": [
    "#Размер файла изменился с 6,3МБ до 6,6"
   ]
  },
  {
   "cell_type": "markdown",
   "id": "4c0a160f",
   "metadata": {},
   "source": [
    "## 3. Выведите количество записей."
   ]
  },
  {
   "cell_type": "code",
   "execution_count": 9,
   "id": "f4f06349",
   "metadata": {},
   "outputs": [
    {
     "data": {
      "text/plain": [
       "[(32683,)]"
      ]
     },
     "execution_count": 9,
     "metadata": {},
     "output_type": "execute_result"
    }
   ],
   "source": [
    "cursor.execute(\"SELECT COUNT(*) FROM works\").fetchall()"
   ]
  },
  {
   "cell_type": "markdown",
   "id": "55f671c0",
   "metadata": {},
   "source": [
    "## 4. Выведите количество мужчин и женщин."
   ]
  },
  {
   "cell_type": "code",
   "execution_count": 10,
   "id": "6ef0df5b",
   "metadata": {},
   "outputs": [
    {
     "data": {
      "text/plain": [
       "(13386,)"
      ]
     },
     "execution_count": 10,
     "metadata": {},
     "output_type": "execute_result"
    }
   ],
   "source": [
    "cursor.execute(\"SELECT COUNT(*) FROM works WHERE gender='Мужской'\").fetchone()"
   ]
  },
  {
   "cell_type": "code",
   "execution_count": 11,
   "id": "6d0a8486",
   "metadata": {},
   "outputs": [
    {
     "data": {
      "text/plain": [
       "(17910,)"
      ]
     },
     "execution_count": 11,
     "metadata": {},
     "output_type": "execute_result"
    }
   ],
   "source": [
    "cursor.execute(\"SELECT COUNT(*) FROM works WHERE gender='Женский'\").fetchone()"
   ]
  },
  {
   "cell_type": "markdown",
   "id": "41d82289",
   "metadata": {},
   "source": [
    "## 5. У скольки записей заполены skills?"
   ]
  },
  {
   "cell_type": "code",
   "execution_count": 12,
   "id": "b9145da7",
   "metadata": {},
   "outputs": [
    {
     "data": {
      "text/plain": [
       "(8972,)"
      ]
     },
     "execution_count": 12,
     "metadata": {},
     "output_type": "execute_result"
    }
   ],
   "source": [
    "cursor.execute(\"SELECT COUNT(*) FROM works WHERE skills IS NOT NULL\").fetchone()"
   ]
  },
  {
   "cell_type": "markdown",
   "id": "6fcae75f",
   "metadata": {},
   "source": [
    "## 6. Получить заполненные скиллы. "
   ]
  },
  {
   "cell_type": "code",
   "execution_count": 161,
   "id": "b6067158",
   "metadata": {},
   "outputs": [
    {
     "data": {
      "text/plain": [
       "(1,\n",
       " 60000,\n",
       " 'Специалист пресс-службы',\n",
       " 'Магистр',\n",
       " '2021-04-01',\n",
       " 'Аналитическоемышление,ответственность, стабильность психологического состояния и настроения.',\n",
       " None,\n",
       " 1,\n",
       " 1)"
      ]
     },
     "execution_count": 161,
     "metadata": {},
     "output_type": "execute_result"
    }
   ],
   "source": [
    "cursor.execute(\"SELECT * FROM works WHERE skills IS NOT NULL\").fetchone()"
   ]
  },
  {
   "cell_type": "markdown",
   "id": "0f6399c7",
   "metadata": {},
   "source": [
    "## 7. Вывести зарплату только у тех, у кого в скилах есть Python. "
   ]
  },
  {
   "cell_type": "code",
   "execution_count": 14,
   "id": "1d583985",
   "metadata": {},
   "outputs": [
    {
     "data": {
      "text/plain": [
       "[(35000,),\n",
       " (20000,),\n",
       " (35000,),\n",
       " (15000,),\n",
       " (25000,),\n",
       " (90000,),\n",
       " (30000,),\n",
       " (50000,),\n",
       " (23000,),\n",
       " (23000,)]"
      ]
     },
     "execution_count": 14,
     "metadata": {},
     "output_type": "execute_result"
    }
   ],
   "source": [
    "cursor.execute(\"SELECT salary FROM works WHERE skills LIKE '%python%'\").fetchall()"
   ]
  },
  {
   "cell_type": "markdown",
   "id": "d49174e4",
   "metadata": {},
   "source": [
    "## 8. Построить перцентили и разброс по з/п у мужчин и женщин."
   ]
  },
  {
   "cell_type": "code",
   "execution_count": 23,
   "id": "ae32c32c",
   "metadata": {},
   "outputs": [
    {
     "data": {
      "text/plain": [
       "array([  15000.,   20000.,   25000.,   30000.,   30000.,   35000.,\n",
       "         40000.,   50000.,   60000., 1000000.])"
      ]
     },
     "execution_count": 23,
     "metadata": {},
     "output_type": "execute_result"
    }
   ],
   "source": [
    "cursor.execute('SELECT salary FROM works WHERE gender = \"Мужской\"')\n",
    "men_list = [i[0] for i in cursor.fetchall()]\n",
    "men_salary = np.quantile(men_list, np.linspace(.1, 1, 10))\n",
    "men_salary"
   ]
  },
  {
   "cell_type": "code",
   "execution_count": 27,
   "id": "2601001d",
   "metadata": {},
   "outputs": [
    {
     "data": {
      "image/png": "[encoded data removed]",
      "text/plain": [
       "<Figure size 504x360 with 1 Axes>"
      ]
     },
     "metadata": {
      "needs_background": "light"
     },
     "output_type": "display_data"
    }
   ],
   "source": [
    "plt.figure(figsize=(7, 5)) \n",
    "plt.title('Перцентили по заработной плате у мужчин') \n",
    "plt.xlabel('Перцентили') \n",
    "plt.ylabel('Зарплата мужчин') \n",
    "plt.grid() \n",
    "\n",
    "plt.plot(men_salary)  \n",
    "plt.show()"
   ]
  },
  {
   "cell_type": "code",
   "execution_count": 24,
   "id": "1d413057",
   "metadata": {},
   "outputs": [
    {
     "data": {
      "text/plain": [
       "array([ 15000.,  18000.,  20000.,  22000.,  25000.,  30000.,  30000.,\n",
       "        35000.,  47000., 900000.])"
      ]
     },
     "execution_count": 24,
     "metadata": {},
     "output_type": "execute_result"
    }
   ],
   "source": [
    "cursor.execute('SELECT salary FROM works WHERE gender = \"Женский\"')\n",
    "women_list = [i[0] for i in cursor.fetchall()]\n",
    "women_salary = np.quantile(women_list, np.linspace(.1, 1, 10))\n",
    "women_salary"
   ]
  },
  {
   "cell_type": "code",
   "execution_count": 28,
   "id": "922e40d6",
   "metadata": {},
   "outputs": [
    {
     "data": {
      "image/png": "[encoded data removed]",
      "text/plain": [
       "<Figure size 504x360 with 1 Axes>"
      ]
     },
     "metadata": {
      "needs_background": "light"
     },
     "output_type": "display_data"
    }
   ],
   "source": [
    "plt.figure(figsize=(7, 5)) \n",
    "plt.title('Перцентили по заработной плате у женщин') \n",
    "plt.xlabel('Перцентили') \n",
    "plt.ylabel('Зарплата женщин') \n",
    "plt.grid() \n",
    "\n",
    "plt.plot(women_salary)  \n",
    "plt.show()"
   ]
  },
  {
   "cell_type": "markdown",
   "id": "3b2e12df",
   "metadata": {},
   "source": [
    "## 9. Построить графики распределения по заработной плате мужчин и женщин в зависимости от высшего образования."
   ]
  },
  {
   "cell_type": "code",
   "execution_count": 48,
   "id": "b7f1cc31",
   "metadata": {},
   "outputs": [
    {
     "data": {
      "text/plain": [
       "array([[ 60000],\n",
       "       [ 85000],\n",
       "       [100000],\n",
       "       ...,\n",
       "       [ 40000],\n",
       "       [ 40000],\n",
       "       [ 35000]])"
      ]
     },
     "execution_count": 48,
     "metadata": {},
     "output_type": "execute_result"
    }
   ],
   "source": [
    "men_height = np.asarray(cursor.execute(\"SELECT salary FROM works WHERE gender='Мужской' and educationType='Высшее'\").fetchall())\n",
    "men_height"
   ]
  },
  {
   "cell_type": "code",
   "execution_count": 49,
   "id": "32e85288",
   "metadata": {},
   "outputs": [
    {
     "data": {
      "image/png": "[encoded data removed]",
      "text/plain": [
       "<Figure size 720x360 with 1 Axes>"
      ]
     },
     "metadata": {
      "needs_background": "light"
     },
     "output_type": "display_data"
    }
   ],
   "source": [
    "plt.figure(figsize=(10, 5)) \n",
    "plt.title('Распределение по заработной плате у мужчин с высшим образованием') \n",
    "plt.xlabel('Зарплата мужчин') \n",
    "plt.ylabel('Количество мужчин') \n",
    "plt.grid() \n",
    "\n",
    "plt.hist(men_height, \n",
    "         bins=50) \n",
    "plt.show()"
   ]
  },
  {
   "cell_type": "code",
   "execution_count": 50,
   "id": "e2221fe3",
   "metadata": {},
   "outputs": [],
   "source": [
    "men_not_height = np.asarray(cursor.execute(\"SELECT salary FROM works WHERE gender='Мужской' and educationType='Незаконченное высшее'\").fetchall())"
   ]
  },
  {
   "cell_type": "code",
   "execution_count": 51,
   "id": "f6434751",
   "metadata": {},
   "outputs": [
    {
     "data": {
      "image/png": "[encoded data removed]",
      "text/plain": [
       "<Figure size 720x360 with 1 Axes>"
      ]
     },
     "metadata": {
      "needs_background": "light"
     },
     "output_type": "display_data"
    }
   ],
   "source": [
    "plt.figure(figsize=(10, 5))  \n",
    "plt.title('Распределение по заработной плате у мужчин с незаконченным высшим образованием') \n",
    "plt.xlabel('Зарплата мужчин') \n",
    "plt.ylabel('Количество мужчин') \n",
    "plt.grid() \n",
    "\n",
    "plt.hist(men_not_height, \n",
    "         bins=50) \n",
    "plt.show()"
   ]
  },
  {
   "cell_type": "code",
   "execution_count": 52,
   "id": "4b594344",
   "metadata": {},
   "outputs": [],
   "source": [
    "men_mean = np.asarray(cursor.execute(\"SELECT salary FROM works WHERE gender='Мужской' and educationType='Среднее'\").fetchall())"
   ]
  },
  {
   "cell_type": "code",
   "execution_count": 53,
   "id": "09f7c812",
   "metadata": {},
   "outputs": [
    {
     "data": {
      "image/png": "[encoded data removed]",
      "text/plain": [
       "<Figure size 720x360 with 1 Axes>"
      ]
     },
     "metadata": {
      "needs_background": "light"
     },
     "output_type": "display_data"
    }
   ],
   "source": [
    "plt.figure(figsize=(10, 5))  \n",
    "plt.title('Распределение по заработной плате у мужчин с незаконченным высшим образованием') \n",
    "plt.xlabel('Зарплата мужчин') \n",
    "plt.ylabel('Количество мужчин') \n",
    "plt.grid() \n",
    "\n",
    "plt.hist(men_mean, \n",
    "         bins=50) \n",
    "plt.show()"
   ]
  },
  {
   "cell_type": "code",
   "execution_count": 56,
   "id": "303644c0",
   "metadata": {},
   "outputs": [],
   "source": [
    "men_mean_prof = np.asarray(cursor.execute(\"SELECT salary FROM works WHERE gender='Мужской' and educationType='Среднее профессиональное'\").fetchall())"
   ]
  },
  {
   "cell_type": "code",
   "execution_count": 57,
   "id": "0b51bc37",
   "metadata": {},
   "outputs": [
    {
     "data": {
      "image/png": "[encoded data removed]",
      "text/plain": [
       "<Figure size 720x360 with 1 Axes>"
      ]
     },
     "metadata": {
      "needs_background": "light"
     },
     "output_type": "display_data"
    }
   ],
   "source": [
    "plt.figure(figsize=(10, 5))  \n",
    "plt.title('Распределение по заработной плате у мужчин с незаконченным высшим образованием') \n",
    "plt.xlabel('Зарплата мужчин') \n",
    "plt.ylabel('Количество мужчин') \n",
    "plt.grid() \n",
    "\n",
    "plt.hist(men_mean_prof, \n",
    "         bins=50) \n",
    "plt.show()"
   ]
  },
  {
   "cell_type": "code",
   "execution_count": 58,
   "id": "232cd163",
   "metadata": {},
   "outputs": [],
   "source": [
    "women_height = np.asarray(cursor.execute(\"SELECT salary FROM works WHERE gender='Женский' and educationType='Высшее'\").fetchall())"
   ]
  },
  {
   "cell_type": "code",
   "execution_count": 59,
   "id": "226b9033",
   "metadata": {},
   "outputs": [
    {
     "data": {
      "image/png": "[encoded data removed]",
      "text/plain": [
       "<Figure size 720x360 with 1 Axes>"
      ]
     },
     "metadata": {
      "needs_background": "light"
     },
     "output_type": "display_data"
    }
   ],
   "source": [
    "plt.figure(figsize=(10, 5))  \n",
    "plt.title('Распределение по заработной плате у женщин с высшим образованием') \n",
    "plt.xlabel('Зарплата женщин') \n",
    "plt.ylabel('Количество женщин') \n",
    "plt.grid() \n",
    "\n",
    "plt.hist(women_height, \n",
    "         bins=50) \n",
    "plt.show()"
   ]
  },
  {
   "cell_type": "code",
   "execution_count": 60,
   "id": "3c168a5c",
   "metadata": {},
   "outputs": [],
   "source": [
    "women_not_height = np.asarray(cursor.execute(\"SELECT salary FROM works WHERE gender='Женский' and educationType='Незаконченное высшее'\").fetchall())"
   ]
  },
  {
   "cell_type": "code",
   "execution_count": 61,
   "id": "ef6a0e8b",
   "metadata": {},
   "outputs": [
    {
     "data": {
      "image/png": "[encoded data removed]",
      "text/plain": [
       "<Figure size 720x360 with 1 Axes>"
      ]
     },
     "metadata": {
      "needs_background": "light"
     },
     "output_type": "display_data"
    }
   ],
   "source": [
    "plt.figure(figsize=(10, 5))  \n",
    "plt.title('Распределение по заработной плате у женщин с незаконченным высшим образованием') \n",
    "plt.xlabel('Зарплата женщин') \n",
    "plt.ylabel('Количество женщин') \n",
    "plt.grid() \n",
    "\n",
    "plt.hist(women_not_height, \n",
    "         bins=50) \n",
    "plt.show()"
   ]
  },
  {
   "cell_type": "code",
   "execution_count": 62,
   "id": "bac2bbdc",
   "metadata": {},
   "outputs": [],
   "source": [
    "women_mean = np.asarray(cursor.execute(\"SELECT salary FROM works WHERE gender='Женский' and educationType='Среднее'\").fetchall())"
   ]
  },
  {
   "cell_type": "code",
   "execution_count": 63,
   "id": "ca46b517",
   "metadata": {},
   "outputs": [
    {
     "data": {
      "image/png": "[encoded data removed]",
      "text/plain": [
       "<Figure size 720x360 with 1 Axes>"
      ]
     },
     "metadata": {
      "needs_background": "light"
     },
     "output_type": "display_data"
    }
   ],
   "source": [
    "plt.figure(figsize=(10, 5))  \n",
    "plt.title('Распределение по заработной плате у женщин с незаконченным высшим образованием') \n",
    "plt.xlabel('Зарплата женщин') \n",
    "plt.ylabel('Количество женщин') \n",
    "plt.grid() \n",
    "\n",
    "plt.hist(women_mean, \n",
    "         bins=50) \n",
    "plt.show()"
   ]
  },
  {
   "cell_type": "code",
   "execution_count": 64,
   "id": "8bf0c525",
   "metadata": {},
   "outputs": [],
   "source": [
    "women_mean_prof = np.asarray(cursor.execute(\"SELECT salary FROM works WHERE gender='Женский' and educationType='Среднее профессиональное'\").fetchall())"
   ]
  },
  {
   "cell_type": "code",
   "execution_count": 65,
   "id": "8403751f",
   "metadata": {},
   "outputs": [
    {
     "data": {
      "image/png": "[encoded data removed]",
      "text/plain": [
       "<Figure size 720x360 with 1 Axes>"
      ]
     },
     "metadata": {
      "needs_background": "light"
     },
     "output_type": "display_data"
    }
   ],
   "source": [
    "plt.figure(figsize=(10, 5))  \n",
    "plt.title('Распределение по заработной плате у женщин с незаконченным высшим образованием') \n",
    "plt.xlabel('Зарплата женщин') \n",
    "plt.ylabel('Количество женщин') \n",
    "plt.grid() \n",
    "\n",
    "plt.hist(women_mean_prof, \n",
    "         bins=50) \n",
    "plt.show()"
   ]
  },
  {
   "cell_type": "markdown",
   "id": "1a767ab5",
   "metadata": {},
   "source": [
    "# ДЗ"
   ]
  },
  {
   "cell_type": "markdown",
   "id": "05068e34",
   "metadata": {},
   "source": [
    "## Создайте таблицу с гендером."
   ]
  },
  {
   "cell_type": "code",
   "execution_count": 68,
   "id": "b01a39c1",
   "metadata": {},
   "outputs": [
    {
     "data": {
      "text/plain": [
       "[]"
      ]
     },
     "execution_count": 68,
     "metadata": {},
     "output_type": "execute_result"
    }
   ],
   "source": [
    "cursor.execute(\"CREATE TABLE IF NOT EXISTS genders(id INTEGER PRIMARY KEY AUTOINCREMENT, gender TEXT)\").fetchall()"
   ]
  },
  {
   "cell_type": "code",
   "execution_count": 69,
   "id": "1ff29e3a",
   "metadata": {},
   "outputs": [
    {
     "data": {
      "text/plain": [
       "[(0, 'id', 'INTEGER', 0, None, 1), (1, 'gender', 'TEXT', 0, None, 0)]"
      ]
     },
     "execution_count": 69,
     "metadata": {},
     "output_type": "execute_result"
    }
   ],
   "source": [
    "cursor.execute(\"pragma table_info(genders)\").fetchall()"
   ]
  },
  {
   "cell_type": "code",
   "execution_count": 72,
   "id": "bad69521",
   "metadata": {},
   "outputs": [
    {
     "data": {
      "text/plain": [
       "<sqlite3.Cursor at 0x1b8f5b57c70>"
      ]
     },
     "execution_count": 72,
     "metadata": {},
     "output_type": "execute_result"
    }
   ],
   "source": [
    "cursor.execute('INSERT INTO genders(gender) SELECT DISTINCT gender FROM works WHERE gender IS NOT NULL')"
   ]
  },
  {
   "cell_type": "code",
   "execution_count": 73,
   "id": "525b0a4b",
   "metadata": {},
   "outputs": [
    {
     "data": {
      "text/plain": [
       "<sqlite3.Cursor at 0x1b8f5b57c70>"
      ]
     },
     "execution_count": 73,
     "metadata": {},
     "output_type": "execute_result"
    }
   ],
   "source": [
    "cursor.execute('ALTER TABLE works ADD COLUMN gender_id INTEGER REFERENCES genders(id)')"
   ]
  },
  {
   "cell_type": "code",
   "execution_count": 74,
   "id": "d379eac9",
   "metadata": {},
   "outputs": [
    {
     "data": {
      "text/plain": [
       "<sqlite3.Cursor at 0x1b8f5b57c70>"
      ]
     },
     "execution_count": 74,
     "metadata": {},
     "output_type": "execute_result"
    }
   ],
   "source": [
    "cursor.execute('UPDATE works SET gender_id = (SELECT id FROM genders WHERE gender = works.gender)')"
   ]
  },
  {
   "cell_type": "code",
   "execution_count": 75,
   "id": "03100a8b",
   "metadata": {},
   "outputs": [
    {
     "data": {
      "text/plain": [
       "<sqlite3.Cursor at 0x1b8f5b57c70>"
      ]
     },
     "execution_count": 75,
     "metadata": {},
     "output_type": "execute_result"
    }
   ],
   "source": [
    "cursor.execute('ALTER TABLE works DROP COLUMN gender')"
   ]
  },
  {
   "cell_type": "code",
   "execution_count": 76,
   "id": "3208898a",
   "metadata": {},
   "outputs": [
    {
     "data": {
      "text/plain": [
       "[(0, 'ID', 'INTEGER', 0, None, 1),\n",
       " (1, 'salary', 'INTEGER', 0, None, 0),\n",
       " (2, 'educationType', 'TEXT', 0, None, 0),\n",
       " (3, 'jobTitle', 'TEXT', 0, None, 0),\n",
       " (4, 'qualification', 'TEXT', 0, None, 0),\n",
       " (5, 'dateModify', 'TEXT', 0, None, 0),\n",
       " (6, 'skills', 'TEXT', 0, None, 0),\n",
       " (7, 'otherInfo', 'TEXT', 0, None, 0),\n",
       " (8, 'gender_id', 'INTEGER', 0, None, 0)]"
      ]
     },
     "execution_count": 76,
     "metadata": {},
     "output_type": "execute_result"
    }
   ],
   "source": [
    "cursor.execute(\"pragma table_info(works)\").fetchall()"
   ]
  },
  {
   "cell_type": "code",
   "execution_count": 78,
   "id": "a7a26d6e",
   "metadata": {},
   "outputs": [
    {
     "data": {
      "text/plain": [
       "[(1,\n",
       "  60000,\n",
       "  'Высшее',\n",
       "  'Специалист пресс-службы',\n",
       "  'Магистр',\n",
       "  '2021-04-01',\n",
       "  '<p>Аналитическое&nbsp;мышление,&nbsp;<span class=\"s6\"><span class=\"bumpedFont15\">ответственность, </span></span><span class=\"s6\"><span class=\"bumpedFont15\">стабильность психологического состояния и настроения.&nbsp;</span></span></p>',\n",
       "  None,\n",
       "  1),\n",
       " (2, 85000, 'Высшее', 'менеджер проектов', None, '2021-04-01', None, None, 1)]"
      ]
     },
     "execution_count": 78,
     "metadata": {},
     "output_type": "execute_result"
    }
   ],
   "source": [
    "cursor.execute(\"SELECT * FROM works limit 2\").fetchall()"
   ]
  },
  {
   "cell_type": "code",
   "execution_count": 84,
   "id": "41b674e5",
   "metadata": {},
   "outputs": [
    {
     "data": {
      "text/plain": [
       "[(1, 'Мужской'),\n",
       " (2, 'Женский'),\n",
       " (3, 'Мужской'),\n",
       " (4, 'Женский'),\n",
       " (5, 'Мужской')]"
      ]
     },
     "execution_count": 84,
     "metadata": {},
     "output_type": "execute_result"
    }
   ],
   "source": [
    "cursor.execute(\"SELECT * FROM genders limit 5\").fetchall()"
   ]
  },
  {
   "cell_type": "markdown",
   "id": "12d90d29",
   "metadata": {},
   "source": [
    "## Создайте таблицу для образования."
   ]
  },
  {
   "cell_type": "code",
   "execution_count": 85,
   "id": "7b27ade4",
   "metadata": {},
   "outputs": [
    {
     "data": {
      "text/plain": [
       "<sqlite3.Cursor at 0x1b8f5b57c70>"
      ]
     },
     "execution_count": 85,
     "metadata": {},
     "output_type": "execute_result"
    }
   ],
   "source": [
    "cursor.execute('CREATE TABLE IF NOT EXISTS education(id INTEGER PRIMARY KEY AUTOINCREMENT, type_educate TEXT)')"
   ]
  },
  {
   "cell_type": "code",
   "execution_count": 90,
   "id": "3f5cd214",
   "metadata": {},
   "outputs": [
    {
     "data": {
      "text/plain": [
       "<sqlite3.Cursor at 0x1b8f5b57c70>"
      ]
     },
     "execution_count": 90,
     "metadata": {},
     "output_type": "execute_result"
    }
   ],
   "source": [
    "cursor.execute('INSERT INTO education(type_educate) SELECT DISTINCT educationType FROM works WHERE educationType IS NOT NULL')"
   ]
  },
  {
   "cell_type": "code",
   "execution_count": 94,
   "id": "fbb0d83d",
   "metadata": {},
   "outputs": [
    {
     "data": {
      "text/plain": [
       "<sqlite3.Cursor at 0x1b8f5b57c70>"
      ]
     },
     "execution_count": 94,
     "metadata": {},
     "output_type": "execute_result"
    }
   ],
   "source": [
    "cursor.execute('ALTER TABLE works ADD COLUMN education_id INTEGER REFERENCES education(id)')"
   ]
  },
  {
   "cell_type": "code",
   "execution_count": 100,
   "id": "4e50e3a7",
   "metadata": {},
   "outputs": [
    {
     "data": {
      "text/plain": [
       "<sqlite3.Cursor at 0x1b8f5b57c70>"
      ]
     },
     "execution_count": 100,
     "metadata": {},
     "output_type": "execute_result"
    }
   ],
   "source": [
    "cursor.execute('UPDATE works SET education_id = (SELECT id FROM education WHERE type_educate = works.educationType)')"
   ]
  },
  {
   "cell_type": "code",
   "execution_count": 104,
   "id": "57ffb613",
   "metadata": {},
   "outputs": [
    {
     "data": {
      "text/plain": [
       "<sqlite3.Cursor at 0x1b8f5b57c70>"
      ]
     },
     "execution_count": 104,
     "metadata": {},
     "output_type": "execute_result"
    }
   ],
   "source": [
    "cursor.execute('ALTER TABLE works DROP COLUMN educationType')"
   ]
  },
  {
   "cell_type": "code",
   "execution_count": 105,
   "id": "3d3be510",
   "metadata": {},
   "outputs": [
    {
     "data": {
      "text/plain": [
       "[(0, 'ID', 'INTEGER', 0, None, 1),\n",
       " (1, 'salary', 'INTEGER', 0, None, 0),\n",
       " (2, 'jobTitle', 'TEXT', 0, None, 0),\n",
       " (3, 'qualification', 'TEXT', 0, None, 0),\n",
       " (4, 'dateModify', 'TEXT', 0, None, 0),\n",
       " (5, 'skills', 'TEXT', 0, None, 0),\n",
       " (6, 'otherInfo', 'TEXT', 0, None, 0),\n",
       " (7, 'gender_id', 'INTEGER', 0, None, 0),\n",
       " (8, 'education_id', 'INTEGER', 0, None, 0)]"
      ]
     },
     "execution_count": 105,
     "metadata": {},
     "output_type": "execute_result"
    }
   ],
   "source": [
    "cursor.execute(\"pragma table_info(works)\").fetchall()"
   ]
  },
  {
   "cell_type": "code",
   "execution_count": 106,
   "id": "2c746b46",
   "metadata": {},
   "outputs": [
    {
     "data": {
      "text/plain": [
       "[(1,\n",
       "  60000,\n",
       "  'Специалист пресс-службы',\n",
       "  'Магистр',\n",
       "  '2021-04-01',\n",
       "  '<p>Аналитическое&nbsp;мышление,&nbsp;<span class=\"s6\"><span class=\"bumpedFont15\">ответственность, </span></span><span class=\"s6\"><span class=\"bumpedFont15\">стабильность психологического состояния и настроения.&nbsp;</span></span></p>',\n",
       "  None,\n",
       "  1,\n",
       "  1),\n",
       " (2, 85000, 'менеджер проектов', None, '2021-04-01', None, None, 1, 1)]"
      ]
     },
     "execution_count": 106,
     "metadata": {},
     "output_type": "execute_result"
    }
   ],
   "source": [
    "cursor.execute(\"SELECT * FROM works limit 2\").fetchall()"
   ]
  },
  {
   "cell_type": "code",
   "execution_count": 107,
   "id": "cb858dc2",
   "metadata": {},
   "outputs": [
    {
     "data": {
      "text/plain": [
       "[(1, 'Высшее'),\n",
       " (2, 'Среднее профессиональное'),\n",
       " (3, 'Среднее'),\n",
       " (4, 'Незаконченное высшее'),\n",
       " (5, 'Высшее')]"
      ]
     },
     "execution_count": 107,
     "metadata": {},
     "output_type": "execute_result"
    }
   ],
   "source": [
    "cursor.execute(\"SELECT * FROM education limit 5\").fetchall()"
   ]
  },
  {
   "cell_type": "markdown",
   "id": "f039c6d8",
   "metadata": {},
   "source": [
    "## Очистить поля skills и otherInfo от HTML."
   ]
  },
  {
   "cell_type": "code",
   "execution_count": 152,
   "id": "0bb02427",
   "metadata": {},
   "outputs": [],
   "source": [
    "works1 = cursor.execute(\"SELECT ID, skills, otherInfo FROM works\").fetchall()"
   ]
  },
  {
   "cell_type": "code",
   "execution_count": 156,
   "id": "84bfc505",
   "metadata": {},
   "outputs": [],
   "source": [
    "clear_works = []\n",
    "for id, skill, other_info in works1:\n",
    "    if skill is not None:\n",
    "        skill = re.sub(r'<.*?>|&([a-z0-9]+|#[0-9]{1,6}|#x[0-9a-f]{1,6});', '', skill)\n",
    "    if other_info is not None:   \n",
    "        other_info = re.sub(r'<.*?>|&([a-z0-9]+|#[0-9]{1,6}|#x[0-9a-f]{1,6});', '', other_info)\n",
    "    clear_works.append((skill, other_info, id))"
   ]
  },
  {
   "cell_type": "code",
   "execution_count": 159,
   "id": "ba7b8b83",
   "metadata": {},
   "outputs": [
    {
     "data": {
      "text/plain": [
       "<sqlite3.Cursor at 0x1b8f5b57c70>"
      ]
     },
     "execution_count": 159,
     "metadata": {},
     "output_type": "execute_result"
    }
   ],
   "source": [
    "cursor.executemany(\"UPDATE works SET skills = ?, otherInfo = ? WHERE ID = ?\", clear_works)"
   ]
  },
  {
   "cell_type": "code",
   "execution_count": 160,
   "id": "677791db",
   "metadata": {},
   "outputs": [
    {
     "data": {
      "text/plain": [
       "[(1,\n",
       "  60000,\n",
       "  'Специалист пресс-службы',\n",
       "  'Магистр',\n",
       "  '2021-04-01',\n",
       "  'Аналитическоемышление,ответственность, стабильность психологического состояния и настроения.',\n",
       "  None,\n",
       "  1,\n",
       "  1),\n",
       " (2, 85000, 'менеджер проектов', None, '2021-04-01', None, None, 1, 1)]"
      ]
     },
     "execution_count": 160,
     "metadata": {},
     "output_type": "execute_result"
    }
   ],
   "source": [
    "cursor.execute(\"SELECT * FROM works limit 2\").fetchall()"
   ]
  },
  {
   "cell_type": "code",
   "execution_count": null,
   "id": "a9bd5fe6",
   "metadata": {},
   "outputs": [],
   "source": []
  }
 ],
 "metadata": {
  "kernelspec": {
   "display_name": "Python 3",
   "language": "python",
   "name": "python3"
  },
  "language_info": {
   "codemirror_mode": {
    "name": "ipython",
    "version": 3
   },
   "file_extension": ".py",
   "mimetype": "text/x-python",
   "name": "python",
   "nbconvert_exporter": "python",
   "pygments_lexer": "ipython3",
   "version": "3.8.8"
  }
 },
 "nbformat": 4,
 "nbformat_minor": 5
}
